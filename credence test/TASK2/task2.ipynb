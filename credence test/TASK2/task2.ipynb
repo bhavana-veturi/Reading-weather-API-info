{
 "cells": [
  {
   "cell_type": "code",
   "execution_count": 1,
   "metadata": {},
   "outputs": [],
   "source": [
    "from flask import Flask, render_template, request \n",
    "import json \n",
    "import urllib.request "
   ]
  },
  {
   "cell_type": "code",
   "execution_count": 2,
   "metadata": {},
   "outputs": [],
   "source": [
    "app = Flask(__name__) "
   ]
  },
  {
   "cell_type": "code",
   "execution_count": 3,
   "metadata": {},
   "outputs": [
    {
     "name": "stdout",
     "output_type": "stream",
     "text": [
      " * Serving Flask app \"__main__\" (lazy loading)\n",
      " * Environment: production\n",
      "   WARNING: This is a development server. Do not use it in a production deployment.\n",
      "   Use a production WSGI server instead.\n",
      " * Debug mode: off\n"
     ]
    },
    {
     "name": "stderr",
     "output_type": "stream",
     "text": [
      " * Running on http://127.0.0.1:5000/ (Press CTRL+C to quit)\n",
      "127.0.0.1 - - [12/Sep/2020 12:00:20] \"\u001b[37mGET / HTTP/1.1\u001b[0m\" 200 -\n"
     ]
    },
    {
     "name": "stdout",
     "output_type": "stream",
     "text": [
      "{'city': 'London', 'country_code': 'GB', 'Mintemp': '279.15', 'Maxtemp': '281.15', 'pressure': '1012', 'humidity': '81', 'coordinates': '-0.13 51.51'}\n"
     ]
    }
   ],
   "source": [
    "@app.route('/', methods =['POST', 'GET']) \n",
    "def weather_1():\n",
    "    json_info = urllib.request.urlopen('http://samples.openweathermap.org/data/2.5/weather?q=London,uk&appid=b6907d289e10d714a6e88b30761fae22').read() \n",
    "    info_dict = json.loads(json_info)  \n",
    "    data = {\"city\": str(info_dict['name']),\n",
    "        \"country_code\": str(info_dict['sys']['country']),  \n",
    "        \"Mintemp\": str(info_dict['main']['temp_min']),\n",
    "        \"Maxtemp\": str(info_dict['main']['temp_max']),\n",
    "        \"pressure\": str(info_dict['main']['pressure']), \n",
    "        \"humidity\": str(info_dict['main']['humidity']),\n",
    "        \"coordinates\": str(info_dict['coord']['lon']) +' '+ str(info_dict['coord']['lat']),\n",
    "           } \n",
    "    print(data)\n",
    "    return render_template('weather.html', data = data)\n",
    "    \n",
    "if __name__ == '__main__': \n",
    "    app.run(debug = False) "
   ]
  },
  {
   "cell_type": "code",
   "execution_count": null,
   "metadata": {},
   "outputs": [],
   "source": []
  }
 ],
 "metadata": {
  "kernelspec": {
   "display_name": "Python 3",
   "language": "python",
   "name": "python3"
  },
  "language_info": {
   "codemirror_mode": {
    "name": "ipython",
    "version": 3
   },
   "file_extension": ".py",
   "mimetype": "text/x-python",
   "name": "python",
   "nbconvert_exporter": "python",
   "pygments_lexer": "ipython3",
   "version": "3.8.3"
  }
 },
 "nbformat": 4,
 "nbformat_minor": 4
}
